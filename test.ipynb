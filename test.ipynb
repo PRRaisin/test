# import modules
import numpy as np
import rtree
import rasterio
import logging
import pandas as pd
import matplotlib.pyplot as plt
import geopandas as gpd
from shapely.geometry import Point
from shapely.geometry import box
from shapely.ops import cascaded_union
import timeit
import time

from config import get_config

import requests 
import json
import pickle
import tfe_accessibility
from tfe_accessibility.preprocessing import get_population_data, split, n_closest_geodetic
from tfe_accessibility import routing_service

CRS ='epsg:4326'
OSRM_SERVER="http://0.0.0.0:5000"

logging.basicConfig(level=logging.INFO)
c = get_config()



#TODO do proper config. 
LOCATION = 'nigeria'
DATAPATH = 'data/' + LOCATION
RAWFILEPATH  = DATAPATH +  '/raw'
PROCESSEDFILEPATH = DATAPATH + '/preprocessed'
RESULTSFILEPATH = DATAPATH + '/results/catchment_area'

FILENAME = "Nga_Raster_394442-healthcare_facilities_origins_nkeep30_batch50.pickle"

with open(RESULTSFILEPATH+'/'+FILENAME, 'rb') as handle:
    hospitals_new,origins = pickle.load(handle)
    
    
# prepare hospital locations to be fed into the OSRM engine as strings
batch = 1 # MUST BE AT 1: We need to investigate each pixel on its own.
n_keep = 30 # BETTER TO USE 30
usual_origin='hospital'
buffer=10/60.  #10 minutes, in hours
overalpenalty=1.05  #5%
travel_time_cutoffs = [60,30,15]


time_start = time.time()
counter=0
for i in np.arange(origins.shape[0]/batch):
    
    if i not in origins_failed.index:
        continue   
        
    

    origins_batch=origins.iloc[int(batch*i):].head(n=batch)
    print("Processing batch %i, [%i,%i] of %i"
          %(i,batch*i,batch*(i+1),origins.shape[0]),end="\r")
        
    assert len(origins_batch)==1, "Batch size has to be 1"

    destinations_number=origins_batch.index    
    hospitals_batch = n_closest_geodetic(hospitals_new[['name','lon','lat','geometry']], origins_batch, n_keep)        
    
    travel_time_matrix = routing_service.get_travel_time(origins_batch,
                                                       hospitals_batch,
                                                       osrm_server=OSRM_SERVER)
    try:
        for j, travel_times in enumerate(travel_time_matrix):
             
            origins.at[destinations_number[j], 't_hospital']=buffer+min(travel_times)/60./60.*overalpenalty
            origins.at[destinations_number[j], 'm_hospital']=hospitals_batch.index[np.argmin(travel_times)]
            
            # TODO: Already take care of that in the query above. This is an OSRM behaviour in case 
            # there is no route. Happened with locations on Bonny Island.
            travel_times = [-1 if x==None else x for x in travel_times]
            
            origin_index = i*batch+j
            geom = origins['geometry'][origin_index]
            tot_pop = origins['tot_pop'][origin_index]
            
            # extract a list of all the hospitals which are closer than [cutoff] minutes away 
            for cutoff in travel_time_cutoffs:
                    
                hospitals_below_cutoff = list(hospitals_batch.index[[i for i, x in enumerate(travel_times) if x<(60*cutoff) and x>0]])       
                origins.at[destinations_number[j], f"t{cutoff}_hospital"]=hospitals_below_cutoff

                for k in hospitals_below_cutoff: 
                    hospital_new.at[k,f"pop_t{cutoff}_hospital"] += tot_pop
                    hospital_new.at[k,f"o_t{cutoff}_hospital"] = np.append(hospital_new.at[k,f"o_t{cutoff}_hospital"],origin_index)
                    hospital_new.at[k,f"pop_raster_t{cutoff}"].append(geom)
       
    except:
        logging.warning('Batch '+str(int(i))+' processing failed. Check if OSM data covers area.')
        
time_end = time.time()
print(f"elapsed time: {int(time_end-time_start)}")
    
